{
 "cells": [
  {
   "cell_type": "markdown",
   "metadata": {},
   "source": [
    "# Working with Maxwell-filtered data\n",
    "\n",
    "\n",
    "`\n",
    "Author: Britta Westner\n",
    "`"
   ]
  },
  {
   "cell_type": "markdown",
   "metadata": {},
   "source": [
    "In this notebook, we will have a look at the impact of Maxwell filtering (also known as Signal Space Seperation or SSS) on beamformer source reconstruction. We will see the impact of Maxwell filtering on data and rank and how to remedy this for beamformer source reconstruction. We use the `sample` dataset, which ships with SSS-files.\n",
    "\n",
    "The solutions discuss in this notebook can also hold for other severely rank-deficient data."
   ]
  },
  {
   "cell_type": "code",
   "execution_count": 1,
   "metadata": {},
   "outputs": [],
   "source": [
    "%matplotlib inline\n",
    "import mne\n",
    "\n",
    "mne.set_log_level('warning')\n",
    "\n",
    "# set paths:\n",
    "sample_path = mne.datasets.sample.data_path()\n",
    "data_path = sample_path / 'MEG' / 'sample'\n",
    "subjects_dir = sample_path / 'subjects'"
   ]
  },
  {
   "cell_type": "markdown",
   "metadata": {},
   "source": [
    "## Read and Maxwell-filter raw data"
   ]
  },
  {
   "cell_type": "markdown",
   "metadata": {},
   "source": [
    "First, we read the raw data from disk. We only keep the MEG data, as we are not interested in the EEG data for this tutorial. We also keep the stim channels, because we still want to cut the data in to epochs later. \n",
    "\n",
    "We also have to find the SSS files in the `sample` data folders, so we set the paths below."
   ]
  },
  {
   "cell_type": "code",
   "execution_count": 2,
   "metadata": {},
   "outputs": [],
   "source": [
    "# read raw data\n",
    "fname_raw = data_path / 'sample_audvis_raw.fif'\n",
    "raw = mne.io.read_raw_fif(fname_raw)\n",
    "raw.pick(picks=['grad', 'mag', 'stim'])\n",
    "\n",
    "# set the paths to the SSS files\n",
    "fname_fine_calib = sample_path / 'SSS' / 'sss_cal_mgh.dat'\n",
    "fname_crosstalk = sample_path / 'SSS' / 'ct_sparse_mgh.fif'"
   ]
  },
  {
   "cell_type": "markdown",
   "metadata": {},
   "source": [
    "\n",
    "Note that this is not a tutorial on how to properly Maxwell-filter your data. If you are curious about this, you can check out [the Maxwell filtering tutorial](https://mne.tools/stable/auto_tutorials/preprocessing/60_maxwell_filtering_sss.html) on the MNE-Python homepage.\n",
    "\n",
    "Usually, we would start off with detecting bad channels. In this data set, the channel that would be returned as bad is already marked as bad in our data set anyway: `MEG 2443`. Another one would only be detected by visual inspection, which we will not perform here (check out the tutorial above if you are curious about this step). We will simply mark it as bad manually."
   ]
  },
  {
   "cell_type": "code",
   "execution_count": 3,
   "metadata": {},
   "outputs": [],
   "source": [
    "raw.info['bads'] += ['MEG 2313']  # add extra channel from the Maxwell filtering tutorial to bads"
   ]
  },
  {
   "cell_type": "markdown",
   "metadata": {},
   "source": [
    "You can check if this worked by looking at the information in `raw.info`:"
   ]
  },
  {
   "cell_type": "code",
   "execution_count": null,
   "metadata": {},
   "outputs": [],
   "source": [
    "raw.info"
   ]
  },
  {
   "cell_type": "markdown",
   "metadata": {},
   "source": [
    "### Maxwell filtering steps\n",
    "\n",
    "Now, we can move on to clean our data with Maxwell filtering, using the files we have identified above: the cross talk file and the fine calibration."
   ]
  },
  {
   "cell_type": "code",
   "execution_count": 5,
   "metadata": {},
   "outputs": [],
   "source": [
    "raw_sss = mne.preprocessing.maxwell_filter(raw,\n",
    "                                           cross_talk=fname_crosstalk, calibration=fname_fine_calib)"
   ]
  },
  {
   "cell_type": "markdown",
   "metadata": {},
   "source": [
    "## Compute epochs\n",
    "\n",
    "Next, we want to create epochs from the continuous data and compute the evoked fields.\n",
    "We will do this for both the filtered and original data - to see the effect Maxwell filtering has on the signal.\n",
    "We use the epochs where a visual stimulus was presented in the left or right visual field. These have the trigger codes `3` and `4`.\n",
    "\n",
    "From the epochs, we create the evoked fields."
   ]
  },
  {
   "cell_type": "code",
   "execution_count": 6,
   "metadata": {},
   "outputs": [],
   "source": [
    "events = mne.find_events(raw)   # the stim channels stay the same, so we can use the same events object\n",
    "epochs_orig = mne.Epochs(raw, events, event_id=[3, 4])\n",
    "evoked_orig = epochs_orig.average()\n",
    "\n",
    "epochs_sss = mne.Epochs(raw_sss, events, event_id=[3, 4])\n",
    "evoked_sss = epochs_sss.average()"
   ]
  },
  {
   "cell_type": "markdown",
   "metadata": {},
   "source": [
    "Let's plot the evoked fields. You can see that there are some differences between the original and the cleaned data. However, for this dataset, the differences are not too big. This of course can be very different for other recording sites - or different experiments (e.g., if you have equipment present that might introduce noise)."
   ]
  },
  {
   "cell_type": "code",
   "execution_count": null,
   "metadata": {},
   "outputs": [],
   "source": [
    "evoked_orig.plot(titles=dict(mag='Original data, magnetometers', grad='Original data, gradiometers'));\n",
    "evoked_sss.plot(titles=dict(mag='Maxwell filtered data, magnetometers', grad='Maxwell filtered data, gradiometers'));"
   ]
  },
  {
   "cell_type": "markdown",
   "metadata": {},
   "source": [
    "## The impact of SSS on data rank\n",
    "\n",
    "Let's have a look, however, what else Maxwell filtering did to our data. Maxwell filtering removes noise components from the data. This removal means that the data becomes rank-deficient. \n",
    "\n",
    "Let's have a closer look at what this means: the **rank** of a matrix is the maximal number of linearly independent columns of this matrix. If you remove (even noise) components from your data, you remove information, but not column or rows (there are still an equal amount of channels and time points present). This makes the data linearly dependent - or: rank deficient.\n",
    "\n",
    "This can be visualized in MNE-Python easily when plotting the data covariance matrix. Let's compute the data covariance and visualize it - first for the original data, then for the Maxwell-filtered data.\n",
    "In the singular value plots, you can see a vertical line at the estimated rank of the data. This vertical line coincides with the cliff of the singular value spectrum. In some cases, the rank estimation can fail - you might see another cliff that suggests an even _lower_ rank than the vertical line. The true rank of your data in then the _lower_ number.\n"
   ]
  },
  {
   "cell_type": "markdown",
   "metadata": {},
   "source": [
    "<div class=\"alert alert-block alert-info\">\n",
    "    <b>Rank estimation of covariance matrices</b>\n",
    "    <br> <br>\n",
    "      \"It is advisable to check the quality of the data covariance matrix by inspecting the rank and condition number, and also the singular value spectrum of the matrix, which is obtained by a Singular Value Decomposition (SVD). Plotting the singular values on a logarithmic axis provides an indication of the effective numerical rank of the covariance matrix. Typically, the singular value spectrum of an ill-conditioned matrix shows a \"cliff\" at its effective rank, with the numerically irrelevant components having singular values several orders of magnitude smaller than the rest. Sometimes, the spectrum can show two or more such cliffs, e.g., in the case of combined channel types or when the data has been processed with SSS. In such cases, a close inspection of the singular value spectrum is advisable, as conventional rank estimation via SVD can fail.\" <br>\n",
    "      <br>\n",
    "      Quote from: Westner et al. 2022, <em>A unified view on beamformers for M/EEG source reconstruction</em>, NeuroImage, DOI: 10.1016/j.neuroimage.2021.118789\n",
    "</div>\n"
   ]
  },
  {
   "cell_type": "code",
   "execution_count": 8,
   "metadata": {},
   "outputs": [],
   "source": [
    "# compute the data covariance\n",
    "data_cov = mne.compute_covariance(epochs_orig, tmin=0.05, tmax=0.15,\n",
    "                                  method='empirical')"
   ]
  },
  {
   "cell_type": "code",
   "execution_count": null,
   "metadata": {},
   "outputs": [],
   "source": [
    "# visualize the covariance matrix and the singular value spectrum\n",
    "mne.viz.plot_cov(data_cov, info=epochs_orig.info);"
   ]
  },
  {
   "cell_type": "markdown",
   "metadata": {},
   "source": [
    "<div class=\"alert alert-success\">\n",
    "    <b>EXERCISES</b>:\n",
    "     <ul>\n",
    "      <li> Change the code above to instead plot the Maxwell-filtered data. What do you notice? </li>\n",
    "    </ul>\n",
    "</div>"
   ]
  },
  {
   "cell_type": "markdown",
   "metadata": {},
   "source": [
    "## Beamforming SSS'ed data\n",
    "\n",
    "Let's attempt to beamform the Maxwell-filtered data. For beamforming, we need the data covariance matrix to construct the beamformer spatial filter. During the computation, the inverse of the covariance matrix is taken - and that inverse is ill-defined if the matrix is rank-deficient. "
   ]
  },
  {
   "cell_type": "markdown",
   "metadata": {},
   "source": [
    "<div class=\"alert alert-block alert-info\">\n",
    "    <b>Rank estimation of covariance matrices</b>\n",
    "    <br> <br>\n",
    "      \"If the estimate of the data covariance is unreliable, and thus proves to be ill-conditioned, a simple mathematical inverse of this matrix is either impossible, causing the beamformer computation to fail completely, or the used ill-conditioned covariance matrix will lead to poor beamformer results.\" <br>\n",
    "      <br>\n",
    "      Quote from: Westner et al. 2022, <em>A unified view on beamformers for M/EEG source reconstruction</em>, NeuroImage, DOI: 10.1016/j.neuroimage.2021.118789\n",
    "</div>\n"
   ]
  },
  {
   "cell_type": "markdown",
   "metadata": {},
   "source": [
    "### Prepare beamforming\n",
    "\n",
    "We first have to load the forward model - here, we load a _volumetric_ forward model. If you want to learn more about how to compute forward models, check out the notebook `Forward_modelling.ipynb`.\n",
    "\n",
    "We then, using the Maxwell-filtered data, pick the magnetometers only, to not also have to deal with different channel types. We again pick the data of the right visual field presentations - and create the evoked field. We compute the data covariance matrix (again, because we picked channels just now)."
   ]
  },
  {
   "cell_type": "code",
   "execution_count": 10,
   "metadata": {},
   "outputs": [],
   "source": [
    "# load the precomputed MEG forward model from disk\n",
    "fname_fwd = data_path / 'sample_audvis-meg-vol-7-fwd.fif'\n",
    "fwd_meg = mne.read_forward_solution(fname_fwd)"
   ]
  },
  {
   "cell_type": "code",
   "execution_count": 12,
   "metadata": {},
   "outputs": [],
   "source": [
    "# compute evoked fields\n",
    "epochs_sss.load_data().pick(picks=['mag'])\n",
    "evoked_sss = epochs_sss.average()"
   ]
  },
  {
   "cell_type": "code",
   "execution_count": 13,
   "metadata": {},
   "outputs": [],
   "source": [
    "# compute covariance matrix\n",
    "data_cov_sss = mne.compute_covariance(epochs_sss, tmin=0.05, tmax=0.15,\n",
    "                                  method='empirical')"
   ]
  },
  {
   "cell_type": "markdown",
   "metadata": {},
   "source": [
    "### Compute beamformer and apply to evoked data"
   ]
  },
  {
   "cell_type": "markdown",
   "metadata": {},
   "source": [
    "Now we can compute the beamformer and apply it to the evoked fields. We choose the Linearly Constrained Minimum Variance beamformer (LCMV), which is expecting time-resolved data, such as an evoked field.\n",
    "\n",
    "We use the following ingredients to compute the beamformer:\n",
    "- _data covariance matrix_: This covariance matrix should represent the data.\n",
    "- _the data_: The beamformer will be applied to this - we pass in our evoked object we have created above.\n",
    "- _the forward model_: The one we loaded from disk.\n",
    "- _orientation_: We ask the beamformer to compute the source orientations that maximize power for us. That is done using `pick_ori='max-power'`.\n",
    "- _regularization_: We choose for no regularization `reg=0.0`, more on that below.\n"
   ]
  },
  {
   "cell_type": "code",
   "execution_count": 14,
   "metadata": {},
   "outputs": [],
   "source": [
    "from mne.beamformer import make_lcmv, apply_lcmv\n",
    "\n",
    "filters = make_lcmv(epochs_sss.info, fwd_meg, data_cov=data_cov_sss, reg=0.0, pick_ori='max-power')\n",
    "stc_sss = apply_lcmv(evoked=evoked_sss, filters=filters)"
   ]
  },
  {
   "cell_type": "markdown",
   "metadata": {},
   "source": [
    "We can plot the brain and time course:"
   ]
  },
  {
   "cell_type": "code",
   "execution_count": null,
   "metadata": {},
   "outputs": [],
   "source": [
    "stc_sss.crop(-0.01, 0.15).plot(subjects_dir=subjects_dir, subject='sample', src=fwd_meg['src']);"
   ]
  },
  {
   "cell_type": "markdown",
   "metadata": {},
   "source": [
    "<div class=\"alert alert-success\">\n",
    "    <b>EXERCISES</b>:\n",
    "     <ul>\n",
    "      <li> Does this source reconstruction look as expected for visually evoked activity? </li>\n",
    "      <li> Below you find the code to compute the same source reconstruction on the original data. Compare the outcomes. Can you see the impact of the severe rank deficiency? </li>\n",
    "    </ul>\n",
    "</div>"
   ]
  },
  {
   "cell_type": "code",
   "execution_count": null,
   "metadata": {},
   "outputs": [],
   "source": [
    "# beamform the original data and plot\n",
    "epochs_orig.load_data().pick(picks=['mag'])\n",
    "evoked_orig = epochs_orig.average()\n",
    "data_cov_orig = mne.compute_covariance(epochs_orig, tmin=0.05, tmax=0.15,\n",
    "                                  method='empirical')\n",
    "\n",
    "filters = make_lcmv(epochs_orig.info, fwd_meg, data_cov=data_cov_orig, reg=0.0, pick_ori='max-power')\n",
    "stc_orig = apply_lcmv(evoked=evoked_orig, filters=filters)\n",
    "\n",
    "stc_orig.crop(-0.05, 0.15).plot(subjects_dir=subjects_dir, subject='sample', src=fwd_meg['src']);"
   ]
  },
  {
   "cell_type": "markdown",
   "metadata": {},
   "source": [
    "### Rescuing Maxwell-filtered data\n",
    "\n",
    "Let's see what we can do to \"rescue\" the Maxwell-filtered data and succeed in source reconstructing the activity.\n",
    "\n",
    "There are four different strategies we can try:\n",
    "1. Regularization\n",
    "2. Truncated pseudo-inverse\n",
    "3. Spatial whitening\n",
    "4. Use a different source reconstruction method.\n",
    "\n",
    "We will look into these options in more detail below. Not every method will work for every data set (except maybe #4). Methods 1-3 can also be combined - you can play around with the parameters yourself and see what impact they have when combined."
   ]
  },
  {
   "cell_type": "markdown",
   "metadata": {},
   "source": [
    "#### 1. Tikhonov regularization\n",
    "\n",
    "We can de-correlate the columns of our rank-deficient covariance matrix, by adding to the diagonal. This process is called Tikhonov regularization. The values to add to the diagonal are expressed as ratios/percentages of the sensor power. In MNE-Python, we use the `reg` parameter for that.\n",
    "\n",
    "In our example, we will add 10% of the global sensor power: `reg=0.1`. \n",
    "\n",
    "The downside of regularization is that it decreases spatial resolution. "
   ]
  },
  {
   "cell_type": "markdown",
   "metadata": {},
   "source": [
    "<div class=\"alert alert-block alert-info\">\n",
    "    <b>Tikhonov regularization</b>\n",
    "    <br> <br>\n",
    "      \"To ensure a numerically stable inversion of the covariance matrix, one can use a truncated pseudo-inverse, or use “diagonal loading” as a regularization technique (Hillebrand and Barnes, 2003; 2005). Diagonal loading makes the data covariance matrix full-rank by adding a small constant to the diagonal elements of the matrix (Vrba and Robinson, 2000). The regularization of the covariance matrix results in a broader passband of the spatial filter, which increases the output SNR of the filter, but also spatially blurs the source estimates (Brookes et al., 2008). Thus, a trade-off between increasing output SNR and decreasing spatial resolution exists and makes the choice of the regularization parameter 𝜆 crucial for beamformer performance.\" <br>\n",
    "      <br>\n",
    "      Quote from: Westner et al. 2022, <em>A unified view on beamformers for M/EEG source reconstruction</em>, NeuroImage, DOI: 10.1016/j.neuroimage.2021.118789\n",
    "</div>\n"
   ]
  },
  {
   "cell_type": "code",
   "execution_count": null,
   "metadata": {},
   "outputs": [],
   "source": [
    "filters = make_lcmv(epochs_sss.info, fwd_meg, data_cov=data_cov_sss, pick_ori='max-power', reg=0.1)\n",
    "stc_meg = apply_lcmv(evoked=evoked_sss, filters=filters)\n",
    "\n",
    "stc_meg.crop(-0.05, 0.15).plot(subjects_dir=subjects_dir, subject='sample', src=fwd_meg['src']);"
   ]
  },
  {
   "cell_type": "markdown",
   "metadata": {},
   "source": [
    "<div class=\"alert alert-success\">\n",
    "    <b>EXERCISES</b>:\n",
    "     <ul>\n",
    "      <li> Does this make the source estimate look better than before? </li>\n",
    "      <li> Can you justify the claim that regularization decreases spatial resolution? Try increasing the parameter and see what changes. </li>\n",
    "    </ul>\n",
    "</div>"
   ]
  },
  {
   "cell_type": "markdown",
   "metadata": {},
   "source": [
    "#### 1. Truncated pseudo-inverse\n",
    "\n",
    "A downside of regularization is that you need to guesstimate the regularization parameter - and that usually not to fit one data set, but many. An alternative to Tikhonov regularization is using a truncated pseudo-inverse. \n",
    "\n",
    "Here, only the part of the covariance matrix that spans the non-rank-deficient space will be inverted - and then projected back onto the full space to find the pseudo-inverse of the covariance matrix.\n",
    "\n",
    "For that, we need to pass the effective rank to the beamformer step. We have seen above in the singular value plots that the effective rank of the magnetometers is 72."
   ]
  },
  {
   "cell_type": "code",
   "execution_count": null,
   "metadata": {},
   "outputs": [],
   "source": [
    "data_rank = dict(mag=72)\n",
    "filters = make_lcmv(epochs_sss.info, fwd_meg, data_cov=data_cov_sss, pick_ori='max-power',\n",
    "                    rank=data_rank)\n",
    "stc_meg = apply_lcmv(evoked=evoked_sss, filters=filters)\n",
    "\n",
    "stc_meg.crop(-0.05, 0.15).plot(subjects_dir=subjects_dir, subject='sample', src=fwd_meg['src']);"
   ]
  },
  {
   "cell_type": "markdown",
   "metadata": {},
   "source": [
    "#### 3. Spatial whitening\n",
    "\n",
    "Often used with combined channel types (see notebook `Combining_channel_types.ipynb`), whitening is also useful with rank deficient data as it decorrelates the noise components in the data - and thus directly helps with linearly dependent components of the data."
   ]
  },
  {
   "cell_type": "markdown",
   "metadata": {},
   "source": [
    "<div class=\"alert alert-block alert-info\">\n",
    "    <b>Spatial whitening</b>\n",
    "    <br> <br>\n",
    "      \"Whitening, also called pre-whitening, is a linear operation that intends to decorrelate and scale the noise components in the data. The term whitening refers to the color of the noise being white, i.e., having a covariance matrix that equals the Identity matrix. To achieve this, the procedure uses a so-called noise covariance matrix, a channel-level covariance matrix which can be computed on an empty room recording or a pre-stimulus quiescent baseline.\" <br>\n",
    "      <br>\n",
    "      Quote from: Westner et al. 2022, <em>A unified view on beamformers for M/EEG source reconstruction</em>, NeuroImage, DOI: 10.1016/j.neuroimage.2021.118789\n",
    "</div>\n"
   ]
  },
  {
   "cell_type": "code",
   "execution_count": null,
   "metadata": {},
   "outputs": [],
   "source": [
    "noise_cov_sss = mne.compute_covariance(epochs_sss, tmax=0.0,\n",
    "                                        method='empirical')\n",
    "filters = make_lcmv(epochs_sss.info, fwd_meg, data_cov=data_cov_sss,\n",
    "                    noise_cov=noise_cov_sss, reg=0.0,\n",
    "                    pick_ori='max-power')\n",
    "stc_meg = apply_lcmv(evoked=evoked_sss, filters=filters)\n",
    "\n",
    "stc_meg.crop(-0.05, 0.15).plot(subjects_dir=subjects_dir, subject='sample', src=fwd_meg['src']);"
   ]
  },
  {
   "cell_type": "markdown",
   "metadata": {},
   "source": [
    "<div class=\"alert alert-success\">\n",
    "    <b>EXERCISES</b>:\n",
    "     <ul>\n",
    "      <li> As mentioned above, these three measures can also be combined. Do you think this is necessary for this data set? </li>\n",
    "      <li> You can play around and mix the different methods. </li>     \n",
    "    </ul>\n",
    "</div>"
   ]
  },
  {
   "cell_type": "markdown",
   "metadata": {},
   "source": [
    "#### 4. Use a different inverse solution\n",
    "\n",
    "If all this fails - or to begin with - you can also use a different source reconstruction technique, e.g. Minimum Norm Estimation (MNE). The class of MNEs is not so sensitive rank-deficient data.\n",
    "\n",
    "For that, we need to load a different forward model - MNEs work on surface estimates. We can just re-use the noise covariance matrix we have computed for whitening, and we don't need a data covariance matrix."
   ]
  },
  {
   "cell_type": "code",
   "execution_count": 22,
   "metadata": {},
   "outputs": [],
   "source": [
    "# load the precomputed surface forward model from disk\n",
    "fname_fwd = data_path / 'sample_audvis-meg-oct-6-fwd.fif'\n",
    "fwd = mne.read_forward_solution(fname_fwd)\n",
    "\n",
    "# import MNE methods\n",
    "from mne.minimum_norm import make_inverse_operator, apply_inverse\n",
    "\n",
    "# compute and apply the inverse operator\n",
    "inv = make_inverse_operator(evoked_sss.info, fwd, noise_cov_sss)\n",
    "stc_mne = apply_inverse(evoked_sss, inv, method='dSPM')\n",
    "\n",
    "# plot\n",
    "stc_mne.crop(-0.05, 0.15).plot(hemi='both', subjects_dir=subjects_dir, subject='sample');"
   ]
  },
  {
   "cell_type": "markdown",
   "metadata": {},
   "source": [
    "## Take home messages\n",
    "\n",
    "Here are the top things to pay special attention to when using severely rank-deficient data for beamforming:\n",
    "\n",
    "- Visualize the covariance matrices to get an accurate rank estimate via the singular value spectra.\n",
    "- Mitigate the rank deficiency by one or a combination of the following methods: Thikonov regularization, truncated pseudo inverse, and spatial whitening.\n",
    "- If all fails, use a different source reconstruction method.\n"
   ]
  }
 ],
 "metadata": {
  "kernelspec": {
   "display_name": "mne_berlin",
   "language": "python",
   "name": "python3"
  },
  "language_info": {
   "codemirror_mode": {
    "name": "ipython",
    "version": 3
   },
   "file_extension": ".py",
   "mimetype": "text/x-python",
   "name": "python",
   "nbconvert_exporter": "python",
   "pygments_lexer": "ipython3",
   "version": "3.11.6"
  }
 },
 "nbformat": 4,
 "nbformat_minor": 4
}
