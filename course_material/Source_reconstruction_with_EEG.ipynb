{
 "cells": [
  {
   "cell_type": "markdown",
   "metadata": {},
   "source": [
    "# Source reconstruction with EEG\n",
    "\n",
    "\n",
    "`\n",
    "Author: Britta Westner\n",
    "`"
   ]
  },
  {
   "cell_type": "markdown",
   "metadata": {},
   "source": [
    "In this notebook, we will have a look at source reconstruction with EEG data. We will try different source reconstruction techniques on the `sample` data, and compare the results. Along the way, we will learn about some important things to consider when source-reconstructing EEG data."
   ]
  },
  {
   "cell_type": "code",
   "execution_count": 1,
   "metadata": {},
   "outputs": [],
   "source": [
    "%matplotlib inline\n",
    "import mne\n",
    "\n",
    "mne.set_log_level('warning')\n",
    "\n",
    "# set paths:\n",
    "sample_path = mne.datasets.sample.data_path()\n",
    "data_path = sample_path / 'MEG' / 'sample'\n",
    "subjects_dir = sample_path / 'subjects'"
   ]
  },
  {
   "cell_type": "markdown",
   "metadata": {},
   "source": [
    "## Read raw and re-reference to the average"
   ]
  },
  {
   "cell_type": "markdown",
   "metadata": {},
   "source": [
    "First, we read the raw data from disk, and keep only the EEG data (and the `stim` channel, to be able to cut our data in epochs). "
   ]
  },
  {
   "cell_type": "code",
   "execution_count": null,
   "metadata": {},
   "outputs": [],
   "source": [
    "fname_raw = data_path / 'sample_audvis_raw.fif'\n",
    "raw = mne.io.read_raw_fif(fname_raw)\n",
    "raw.pick(picks=['eeg', 'stim']).load_data()"
   ]
  },
  {
   "cell_type": "markdown",
   "metadata": {},
   "source": [
    "For the source reconstruction of EEG data, it's vital to use an **average reference**. If you were to also compute a forward model (which we skip here for time reasons and simply load from disk), it is important to re-reference your data to the average _before_ computing the forward model. The referencing scheme of the forward model always has to match that of the data!\n",
    "\n",
    "Read an explanation of why we use an average reference below."
   ]
  },
  {
   "cell_type": "markdown",
   "metadata": {},
   "source": [
    "<div class=\"alert alert-block alert-info\">\n",
    "    <b>Average reference in source reconstruction</b>\n",
    "    <br> <br>\n",
    "      \"The forward field is to be calculated with the same reference as the sensor space data. An average reference is a good choice, as it mitigates the modelling error introduced by localization inaccuracies of the electrodes’ positions. With a single reference electrode the model error of this electrode will be passed to all other electrodes, and this error decreases through averaging across all electrodes.\" <br>\n",
    "      <br>\n",
    "      Quote from: Westner et al. 2022, <em>A unified view on beamformers for M/EEG source reconstruction</em>, NeuroImage, DOI: 10.1016/j.neuroimage.2021.118789\n",
    "</div>"
   ]
  },
  {
   "cell_type": "code",
   "execution_count": null,
   "metadata": {},
   "outputs": [],
   "source": [
    "# set the average reference for the EEG data\n",
    "raw.set_eeg_reference(ref_channels='average', projection=True)"
   ]
  },
  {
   "cell_type": "markdown",
   "metadata": {},
   "source": [
    "## Compute epochs and evoked potentials\n",
    "\n",
    "Next, we want to create epochs from the continuous data. Here, we use the trials with an auditory stimulus delivered to the left or right ear. That was coded with trigger value `1` and `2`, respectively. We average those epochs to create an evoked potential, which we then plot to look at."
   ]
  },
  {
   "cell_type": "code",
   "execution_count": null,
   "metadata": {},
   "outputs": [],
   "source": [
    "events = mne.find_events(raw)\n",
    "epochs = mne.Epochs(raw, events, event_id=[1, 2])\n",
    "evoked = epochs.average()\n",
    "evoked.plot_joint();"
   ]
  },
  {
   "cell_type": "markdown",
   "metadata": {},
   "source": [
    "## The forward model for EEG\n",
    "\n",
    "Due to the time constraints of the workshop, we load the forward model from disk. If you process your own data, it is important to know that you **cannot** use a single shell forward model for EEG (as is fine to use with MEG).  \n",
    "\n",
    "For EEG, we need to model the brain, skull, and scalp, as all three play a pivotal role in the spread of the currents from the source to the electrodes. Just modelling the brain is not enough. Most commonly used nowadays is a 3-layer Boundary Element Model (BEM), but  3-layer Finite Element Models (FEM) are used as well. Those are more computationally intensive, though, and need a lot longer to compute.\n",
    "\n",
    "If you want to learn more about how to compute forward models, check out the notebook `Forward_modelling.ipynb`."
   ]
  },
  {
   "cell_type": "markdown",
   "metadata": {},
   "source": [
    "<div class=\"alert alert-block alert-info\">\n",
    "    <b>EEG forward models</b>\n",
    "    <br> <br>\n",
    "      \"[T]he accuracy of the forward field is of high importance, as EEG is very sensitive to the head conduction profile (Hamalainen and Sarvas, 1987; Hillebrand and Barnes, 2005; Steinsträter et al., 2010; Wolters et al., 2006). This necessitates the use of a realistic head model, e.g., a boundary element or finite element model. This model should ideally be created from the individual MRI scan of the participant to maximize accuracy of the forward model.\" <br>\n",
    "      <br>\n",
    "      Quote from: Westner et al. 2022, <em>A unified view on beamformers for M/EEG source reconstruction</em>, NeuroImage, DOI: 10.1016/j.neuroimage.2021.118789\n",
    "</div>\n"
   ]
  },
  {
   "cell_type": "code",
   "execution_count": 7,
   "metadata": {},
   "outputs": [],
   "source": [
    "# load the precomputed EEG forward model from disk\n",
    "fname_fwd = data_path / 'sample_audvis-eeg-oct-6-fwd.fif'\n",
    "fwd = mne.read_forward_solution(fname_fwd)"
   ]
  },
  {
   "cell_type": "markdown",
   "metadata": {},
   "source": [
    "## Compute a minimum norm estimate of the data\n",
    "\n",
    "Let's first compute a source reconstruction using minimum norm estimation (MNE). This technique estimates the source strength across the cortical surface. For MNE, we need a few ingredients:\n",
    "\n",
    "- _covariance matrix_: This covariance matrix should represent \"noise\", thus we are taking the pre-stimulus baseline. Another prominent choice is an empty room measurement (if available).\n",
    "- _the data_: The inverse operator will be applied to this - we pass in our evoked object we have created above.\n",
    "- _the forward model_: The one we loaded from disk.\n",
    "- _method choice_: We also have to choose the \"flavour\" of MNE. dSPM (dynamical Statistical Parametric Mapping), which scales the data based on a noise estimate."
   ]
  },
  {
   "cell_type": "code",
   "execution_count": 8,
   "metadata": {},
   "outputs": [],
   "source": [
    "from mne.minimum_norm import make_inverse_operator, apply_inverse\n",
    "# A quick note on imports: usually, you would have all imports at the beginning of your script.\n",
    "# Here, we choose to break this rule to help you keep track of where functions come from.\n",
    "\n",
    "noise_cov = mne.compute_covariance(epochs, tmax=0.0)\n",
    "inv = make_inverse_operator(evoked.info, fwd, noise_cov)\n",
    "stc_mne = apply_inverse(evoked, inv, method='dSPM')"
   ]
  },
  {
   "cell_type": "markdown",
   "metadata": {},
   "source": [
    "Now we can visualize the result. We choose to crop the data a bit on the time axis since we don't expect the auditory evoked potential to stretch beyond the first 200 ms. \n",
    "\n",
    "You can press Play to see the spread of activation.\n",
    "\n",
    "The time courses in the lower window show the maxmimum activity in the left (blue trace) and right hemisphere (orange trace). You can see the locations of the maxima in the brain plot, marked with a blue and orange dot. \n",
    "\n",
    "You can click on the brain to add the time courses of other locations to the time window. "
   ]
  },
  {
   "cell_type": "code",
   "execution_count": null,
   "metadata": {},
   "outputs": [],
   "source": [
    "stc_mne.crop(-0.01, 0.2).plot(hemi='both', subjects_dir=subjects_dir, subject='sample')"
   ]
  },
  {
   "cell_type": "markdown",
   "metadata": {},
   "source": [
    "<div class=\"alert alert-success\">\n",
    "    <b>EXERCISES</b>:\n",
    "     <ul>\n",
    "      <li> Is the activity where you expected it to be? </li>\n",
    "      <li> You can compare different MNE estimates by changing the method parameter in the apply_inverse() step. See below for more information! </li>\n",
    "    </ul>\n",
    "</div>"
   ]
  },
  {
   "cell_type": "markdown",
   "metadata": {},
   "source": [
    "### Other MNE methods\n",
    "\n",
    "The \"flavour\" of MNE is chosen in `apply_inverse()`. You can easily compare the dSPM solution to other solutions by changing that parameter and re-running the step.\n",
    "\n",
    "Other methods are plain Minimum Norm Estimation (`MNE`), standardized LOw Resolution brain Electromagnetic TomogrAphy (`sLORETA`) and the exact LORETA (`eLORETA`). You will see that not all methods perform equally well on this data set."
   ]
  },
  {
   "cell_type": "markdown",
   "metadata": {},
   "source": [
    "## Prepare beamforming of data\n",
    "\n",
    "Another source reconstruction is beamforming. Beamforming is more sensitive to forward model inaccuracies (especially for EEG!) than MNE solutions, but it can provide more focal localizations than MNE solutions.\n",
    "For Beamforming to work, we also need a high density of EEG electrodes. A rule of thumb that is used sometimes is to have more than 60 electrodes. In this data set, we have _exactly_ 60 - so let's give it a try but be cautious and inspect the outcome carefully!"
   ]
  },
  {
   "cell_type": "markdown",
   "metadata": {},
   "source": [
    "For the computation of the beamformer, we need a **data covariance matrix**. This is different from MNE: the data covariance matrix is computed including the _data of interest_, not across noise. \n",
    "Thus, beamformers are adaptive to the data!\n",
    "\n",
    "Let's compute our covariance matrix over the first 200 ms after stimulus onset. \n",
    "\n",
    "If you want to know more about covariance matrices and their estimation, check out the second section of the `Beamforming_best_practices.ipynb` notebook or the `Working_with_SSSed_data.ipynb` notebook."
   ]
  },
  {
   "cell_type": "code",
   "execution_count": 10,
   "metadata": {},
   "outputs": [],
   "source": [
    "data_cov = mne.compute_covariance(epochs, tmin=0., tmax=0.2,\n",
    "                                  method='empirical', rank='info')"
   ]
  },
  {
   "cell_type": "markdown",
   "metadata": {},
   "source": [
    "It's good practice to visualize our data covariance matrix. You also get an estimate of the rank in the singular value plot."
   ]
  },
  {
   "cell_type": "code",
   "execution_count": null,
   "metadata": {},
   "outputs": [],
   "source": [
    "mne.viz.plot_cov(data_cov, info=epochs.info);"
   ]
  },
  {
   "cell_type": "markdown",
   "metadata": {},
   "source": [
    "<div class=\"alert alert-success\">\n",
    "    <b>EXERCISES</b>:\n",
    "     <ul>\n",
    "      <li> You can see that we are rank-deficient by 2 (60 channels, but only a rank of 58). Do you know why? Hint: look at the output of epochs.info </li>\n",
    "    </ul>\n",
    "</div>"
   ]
  },
  {
   "cell_type": "markdown",
   "metadata": {},
   "source": [
    "We explicitly save the rank for the EEG data in a dictionary, so we can pass it to the beamformer:"
   ]
  },
  {
   "cell_type": "code",
   "execution_count": 12,
   "metadata": {},
   "outputs": [],
   "source": [
    "ranks = {'eeg': 58}"
   ]
  },
  {
   "cell_type": "markdown",
   "metadata": {},
   "source": [
    "## Compute beamformer and apply to evoked data"
   ]
  },
  {
   "cell_type": "markdown",
   "metadata": {},
   "source": [
    "Now we can compute the beamformer (sometimes also called a spatial filter) and apply it to the evoked. We choose the Linearly Constrained Minimum Variance beamformer (LCMV), which is expecting time-resolved data, such as an evoked potential.\n",
    "\n",
    "We use the following ingredients to compute the beamformer:\n",
    "- _covariance matrix_: This covariance matrix should represent the data.\n",
    "- _the data_: The beamformer will be applied to this - we pass in our evoked object we have created above.\n",
    "- _the forward model_: The one we loaded from disk.\n",
    "- _orientation_: We ask the beamformer to compute the source orientations that maximize power for us. That is done using `pick_ori='max-power'`.\n",
    "- _rank_: We pass the rank of the data, so that the beamformer can take care of any rank-deficiencies internally."
   ]
  },
  {
   "cell_type": "code",
   "execution_count": 13,
   "metadata": {},
   "outputs": [],
   "source": [
    "from mne.beamformer import make_lcmv, apply_lcmv\n",
    "\n",
    "filters = make_lcmv(epochs.info, fwd, data_cov=data_cov, pick_ori='max-power', rank=ranks)\n",
    "stc_lcmv = apply_lcmv(evoked=evoked, filters=filters)"
   ]
  },
  {
   "cell_type": "markdown",
   "metadata": {},
   "source": [
    "We can plot the brain and time course using the same way we did before. Do the results match our dSPM results?"
   ]
  },
  {
   "cell_type": "code",
   "execution_count": 14,
   "metadata": {},
   "outputs": [],
   "source": [
    "stc_lcmv.crop(-0.01, 0.2).plot(subjects_dir=subjects_dir, subject='sample', hemi='both');"
   ]
  },
  {
   "cell_type": "markdown",
   "metadata": {},
   "source": [
    "<div class=\"alert alert-success\">\n",
    "    <b>EXERCISES</b>:\n",
    "     <ul>\n",
    "      <li> Do the results match the ones from the dSPM reconstruction? </li>\n",
    "      <li> Do they match your expecations of source activity? </li>\n",
    "    </ul>\n",
    "</div>"
   ]
  },
  {
   "cell_type": "markdown",
   "metadata": {},
   "source": [
    "## Take home messages\n",
    "\n",
    "Here are the top things to pay special attention to when source reconstructing EEG data:\n",
    "\n",
    "- Use an average reference and make sure the forward model is also using an average reference!\n",
    "- Use a 3-layer realistic head model, e.g. a BEM or FEM.\n",
    "- Source reconstruction (especially with beamformers) works best with a higher-density EEG setup. \n",
    "- It's good to check your outcomes carefully (always, not only with EEG). This can include using a _sanity check_, i.e., a easily-identifiable source such as an auditory or visual evoked potential before moving on to more complex contrasts in the data (this is something to already anticipate when designing your experiment!) or to compare your output to that of other source reconstruction techniques."
   ]
  }
 ],
 "metadata": {
  "kernelspec": {
   "display_name": "mne_berlin",
   "language": "python",
   "name": "python3"
  },
  "language_info": {
   "codemirror_mode": {
    "name": "ipython",
    "version": 3
   },
   "file_extension": ".py",
   "mimetype": "text/x-python",
   "name": "python",
   "nbconvert_exporter": "python",
   "pygments_lexer": "ipython3",
   "version": "3.11.6"
  }
 },
 "nbformat": 4,
 "nbformat_minor": 4
}
